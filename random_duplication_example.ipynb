{
 "cells": [
  {
   "cell_type": "code",
   "execution_count": 11,
   "metadata": {},
   "outputs": [],
   "source": [
    "import numpy as np\n",
    "\n",
    "P1 = [0.4, 0.3, 0.2, 0.1]\n",
    "P2 = [0.4/2]*2 + P1[1:]\n",
    "P10 = [0.4/10]*10 + P1[1:]\n",
    "\n",
    "def renyi_entropy(P, alpha):\n",
    "    scale = 1 / (1 - alpha)\n",
    "\n",
    "    return scale * np.log2(np.sum([\n",
    "        prob**alpha\n",
    "        for prob in P\n",
    "    ]))\n",
    "\n",
    "def renyi_eff(P, alpha):\n",
    "    return renyi_entropy(P, alpha)/np.log(len(P))\n",
    "\n",
    "def shannon_entropy(P):\n",
    "    P = np.array(P)\n",
    "    return -np.sum(P * np.log2(P))\n",
    "\n",
    "def shannon_eff(P):\n",
    "    return shannon_entropy(P)/np.log(len(P))\n"
   ]
  },
  {
   "cell_type": "code",
   "execution_count": 12,
   "metadata": {},
   "outputs": [
    {
     "name": "stdout",
     "output_type": "stream",
     "text": [
      "[0.4, 0.3, 0.2, 0.1]\n",
      "H1   1.85\n",
      "H0.5 1.92\n",
      "H3   1.66\n",
      "\n",
      "[0.2, 0.2, 0.3, 0.2, 0.1]\n",
      "H1   2.25\n",
      "H0.5 2.28\n",
      "H3   2.13\n",
      "\n",
      "[0.04, 0.04, 0.04, 0.04, 0.04, 0.04, 0.04, 0.04, 0.04, 0.04, 0.3, 0.2, 0.1]\n",
      "H1   3.18\n",
      "H0.5 3.45\n",
      "H3   2.39\n",
      "\n"
     ]
    }
   ],
   "source": [
    "for P in [P1, P2, P10]:\n",
    "    print(P)\n",
    "    print(f\"H1   {shannon_entropy(P):.2f}\")\n",
    "    print(f\"H0.5 {renyi_entropy(P, 0.5):.2f}\")\n",
    "    print(f\"H3   {renyi_entropy(P, 3):.2f}\")\n",
    "    print()"
   ]
  },
  {
   "cell_type": "code",
   "execution_count": 14,
   "metadata": {},
   "outputs": [
    {
     "name": "stdout",
     "output_type": "stream",
     "text": [
      "[0.4, 0.3, 0.2, 0.1]\n",
      "H1   1.33\n",
      "H0.5 1.38\n",
      "H3   1.20\n",
      "\n",
      "[0.2, 0.2, 0.3, 0.2, 0.1]\n",
      "H1   1.40\n",
      "H0.5 1.42\n",
      "H3   1.33\n",
      "\n",
      "[0.04, 0.04, 0.04, 0.04, 0.04, 0.04, 0.04, 0.04, 0.04, 0.04, 0.3, 0.2, 0.1]\n",
      "H1   1.24\n",
      "H0.5 1.35\n",
      "H3   0.93\n",
      "\n"
     ]
    }
   ],
   "source": [
    "for P in [P1, P2, P10]:\n",
    "    print(P)\n",
    "    print(f\"Eff1   {shannon_eff(P):.2f}\")\n",
    "    print(f\"Eff0.5 {renyi_eff(P, 0.5):.2f}\")\n",
    "    print(f\"Eff3   {renyi_eff(P, 3):.2f}\")\n",
    "    print()"
   ]
  }
 ],
 "metadata": {
  "kernelspec": {
   "display_name": "Python 3",
   "language": "python",
   "name": "python3"
  },
  "language_info": {
   "codemirror_mode": {
    "name": "ipython",
    "version": 3
   },
   "file_extension": ".py",
   "mimetype": "text/x-python",
   "name": "python",
   "nbconvert_exporter": "python",
   "pygments_lexer": "ipython3",
   "version": "3.9.6"
  },
  "orig_nbformat": 4
 },
 "nbformat": 4,
 "nbformat_minor": 2
}
