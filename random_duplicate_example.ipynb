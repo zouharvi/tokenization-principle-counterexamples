{
 "cells": [
  {
   "cell_type": "code",
   "execution_count": 9,
   "metadata": {},
   "outputs": [],
   "source": [
    "import numpy as np\n",
    "\n",
    "P1 = [0.3, 0.2, 0.2, 0.1]\n",
    "P2 = [0.3/2]*2 + P1[1:]\n",
    "P4 = [0.3/4]*4 + P1[1:]\n",
    "\n",
    "def renyi_entropy(P, alpha):\n",
    "    scale = 1 / (1 - alpha)\n",
    "\n",
    "    val = scale * np.log2(np.sum([\n",
    "        prob**alpha\n",
    "        for prob in P\n",
    "    ]))\n",
    "    return val\n",
    "\n",
    "def shannon_entropy(P):\n",
    "    P = np.array(P)\n",
    "    return -np.sum(P * np.log2(P))\n"
   ]
  },
  {
   "cell_type": "code",
   "execution_count": 10,
   "metadata": {},
   "outputs": [
    {
     "name": "stdout",
     "output_type": "stream",
     "text": [
      "[0.3, 0.2, 0.2, 0.1]\n",
      "H1 1.78\n",
      "H0.5 1.63\n",
      "H3 2.25\n",
      "\n",
      "[0.15, 0.15, 0.2, 0.2, 0.1]\n",
      "H1 2.08\n",
      "H0.5 1.98\n",
      "H3 2.70\n",
      "\n",
      "[0.075, 0.075, 0.075, 0.075, 0.2, 0.2, 0.1]\n",
      "H1 2.38\n",
      "H0.5 2.41\n",
      "H3 2.87\n",
      "\n"
     ]
    }
   ],
   "source": [
    "for P in [P1, P2, P4]:\n",
    "    print(P)\n",
    "    print(f\"H1 {shannon_entropy(P):.2f}\")\n",
    "    print(f\"H0.5 {renyi_entropy(P, 0.5):.2f}\")\n",
    "    print(f\"H3 {renyi_entropy(P, 3):.2f}\")\n",
    "    print()"
   ]
  },
  {
   "cell_type": "code",
   "execution_count": 14,
   "metadata": {},
   "outputs": [
    {
     "name": "stdout",
     "output_type": "stream",
     "text": [
      "inside 1.7583775145219198\n",
      "entropy 1.6284896857395876\n",
      "inside 1.9852516262582371\n",
      "entropy 1.9786437547344062\n",
      "inside 2.306100072027086\n",
      "entropy 2.410910238715413\n",
      "inside 0.044\n",
      "entropy 2.253176333012395\n",
      "inside 0.023750000000000004\n",
      "entropy 2.6979643381655696\n",
      "inside 0.018687500000000003\n",
      "entropy 2.870891305231991\n"
     ]
    }
   ],
   "source": [
    "\n",
    "def renyi_entropy2(P, alpha):\n",
    "    scale = 1 / (1 - alpha)\n",
    "\n",
    "    inside = np.sum([\n",
    "        prob**alpha\n",
    "        for prob in P\n",
    "    ])\n",
    "    print(\"inside\", inside)\n",
    "    val = scale * np.log2(inside)\n",
    "    print(\"entropy\", val)\n",
    "\n",
    "\n",
    "renyi_entropy2(P1, 0.5)\n",
    "renyi_entropy2(P2, 0.5)\n",
    "renyi_entropy2(P4, 0.5)\n",
    "\n",
    "\n",
    "renyi_entropy2(P1, 3)\n",
    "renyi_entropy2(P2, 3)\n",
    "renyi_entropy2(P4, 3)"
   ]
  }
 ],
 "metadata": {
  "kernelspec": {
   "display_name": "Python 3",
   "language": "python",
   "name": "python3"
  },
  "language_info": {
   "codemirror_mode": {
    "name": "ipython",
    "version": 3
   },
   "file_extension": ".py",
   "mimetype": "text/x-python",
   "name": "python",
   "nbconvert_exporter": "python",
   "pygments_lexer": "ipython3",
   "version": "3.9.6"
  },
  "orig_nbformat": 4
 },
 "nbformat": 4,
 "nbformat_minor": 2
}
