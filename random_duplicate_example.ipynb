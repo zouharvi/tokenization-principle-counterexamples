{
 "cells": [
  {
   "cell_type": "code",
   "execution_count": 33,
   "metadata": {},
   "outputs": [],
   "source": [
    "import numpy as np\n",
    "\n",
    "P1 = [0.3, 0.2, 0.2, 0.1]\n",
    "P2 = [0.3/2]*2 + P1[1:]\n",
    "P10 = [0.3/10]*10 + P1[1:]\n",
    "\n",
    "def renyi_entropy(P, alpha):\n",
    "    scale = 1 / (1 - alpha)\n",
    "\n",
    "    val = scale * np.log2(np.sum([\n",
    "        prob**alpha\n",
    "        for prob in P\n",
    "    ]))\n",
    "    return val\n",
    "\n",
    "\n",
    "def renyi_eff(P, alpha):\n",
    "    return renyi_entropy(P, alpha)/np.log(len(P))\n",
    "\n",
    "def shannon_entropy(P):\n",
    "    P = np.array(P)\n",
    "    return -np.sum(P * np.log2(P))\n",
    "\n",
    "\n",
    "def shannon_eff(P):\n",
    "    return shannon_entropy(P)/np.log(len(P))\n"
   ]
  },
  {
   "cell_type": "code",
   "execution_count": 35,
   "metadata": {},
   "outputs": [
    {
     "name": "stdout",
     "output_type": "stream",
     "text": [
      "[0.3, 0.2, 0.2, 0.1]\n",
      "H1 1.78\n",
      "H0.5 1.63\n",
      "H3 2.25\n",
      "\n",
      "[0.15, 0.15, 0.2, 0.2, 0.1]\n",
      "H1 2.08\n",
      "H0.5 1.98\n",
      "H3 2.70\n",
      "\n",
      "[0.03, 0.03, 0.03, 0.03, 0.03, 0.03, 0.03, 0.03, 0.03, 0.03, 0.2, 0.2, 0.1]\n",
      "H1 2.78\n",
      "H0.5 3.11\n",
      "H3 2.93\n",
      "\n"
     ]
    }
   ],
   "source": [
    "for P in [P1, P2, P10]:\n",
    "    print(P)\n",
    "    print(f\"H1 {shannon_entropy(P):.2f}\")\n",
    "    print(f\"H0.5 {renyi_entropy(P, 0.5):.2f}\")\n",
    "    print(f\"H3 {renyi_entropy(P, 3):.2f}\")\n",
    "    print()"
   ]
  },
  {
   "cell_type": "code",
   "execution_count": 36,
   "metadata": {},
   "outputs": [
    {
     "name": "stdout",
     "output_type": "stream",
     "text": [
      "[0.3, 0.2, 0.2, 0.1]\n",
      "H1 1.29\n",
      "H0.5 1.17\n",
      "H3 1.63\n",
      "\n",
      "[0.15, 0.15, 0.2, 0.2, 0.1]\n",
      "H1 1.29\n",
      "H0.5 1.23\n",
      "H3 1.68\n",
      "\n",
      "[0.03, 0.03, 0.03, 0.03, 0.03, 0.03, 0.03, 0.03, 0.03, 0.03, 0.2, 0.2, 0.1]\n",
      "H1 1.08\n",
      "H0.5 1.21\n",
      "H3 1.14\n",
      "\n"
     ]
    }
   ],
   "source": [
    "for P in [P1, P2, P10]:\n",
    "    print(P)\n",
    "    print(f\"H1 {shannon_eff(P):.2f}\")\n",
    "    print(f\"H0.5 {renyi_eff(P, 0.5):.2f}\")\n",
    "    print(f\"H3 {renyi_eff(P, 3):.2f}\")\n",
    "    print()"
   ]
  }
 ],
 "metadata": {
  "kernelspec": {
   "display_name": "Python 3",
   "language": "python",
   "name": "python3"
  },
  "language_info": {
   "codemirror_mode": {
    "name": "ipython",
    "version": 3
   },
   "file_extension": ".py",
   "mimetype": "text/x-python",
   "name": "python",
   "nbconvert_exporter": "python",
   "pygments_lexer": "ipython3",
   "version": "3.9.6"
  },
  "orig_nbformat": 4
 },
 "nbformat": 4,
 "nbformat_minor": 2
}
